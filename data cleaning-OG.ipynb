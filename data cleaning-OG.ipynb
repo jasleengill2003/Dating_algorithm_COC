{
 "cells": [
  {
   "cell_type": "code",
   "execution_count": 1,
   "id": "ad612e9a",
   "metadata": {},
   "outputs": [],
   "source": [
    "import warnings\n",
    "warnings.filterwarnings('ignore')"
   ]
  },
  {
   "cell_type": "code",
   "execution_count": 2,
   "id": "9793082e",
   "metadata": {},
   "outputs": [],
   "source": [
    "import requests\n",
    "import pandas as pd\n",
    "url = 'https://raw.githubusercontent.com/kushalpoddar/idyll-dummy-dataset/main/users.csv'\n",
    "res = requests.get(url, allow_redirects=True)\n",
    "with open('users.csv','wb') as file:\n",
    "    file.write(res.content)\n",
    "df_users = pd.read_csv('users.csv')"
   ]
  },
  {
   "cell_type": "code",
   "execution_count": 4,
   "id": "42e66849",
   "metadata": {},
   "outputs": [],
   "source": [
    "url = 'https://raw.githubusercontent.com/kushalpoddar/idyll-dummy-dataset/main/swipes.csv'\n",
    "res = requests.get(url, allow_redirects=True)\n",
    "with open('swipes.csv','wb') as file:\n",
    "    file.write(res.content)\n",
    "df_swipes = pd.read_csv('swipes.csv')"
   ]
  },
  {
   "cell_type": "code",
   "execution_count": 5,
   "id": "784de196",
   "metadata": {},
   "outputs": [],
   "source": [
    "df_swipes = df_swipes.rename(columns={'p1': '_id'})"
   ]
  },
  {
   "cell_type": "code",
   "execution_count": 6,
   "id": "ed55bc82",
   "metadata": {},
   "outputs": [],
   "source": [
    "merged_df = pd.merge(df_users, df_swipes, on='_id', how='inner')"
   ]
  },
  {
   "cell_type": "code",
   "execution_count": 7,
   "id": "b604fa9c",
   "metadata": {},
   "outputs": [
    {
     "name": "stdout",
     "output_type": "stream",
     "text": [
      "<class 'pandas.core.frame.DataFrame'>\n",
      "Int64Index: 66622 entries, 0 to 66621\n",
      "Data columns (total 37 columns):\n",
      " #   Column                        Non-Null Count  Dtype  \n",
      "---  ------                        --------------  -----  \n",
      " 0   _id                           66622 non-null  int64  \n",
      " 1   bio                           65671 non-null  object \n",
      " 2   college                       66495 non-null  object \n",
      " 3   country                       66622 non-null  object \n",
      " 4   createdAt                     66622 non-null  object \n",
      " 5   dob                           66495 non-null  object \n",
      " 6   email                         66622 non-null  object \n",
      " 7   face_detection_probabilities  45624 non-null  object \n",
      " 8   gender                        66577 non-null  object \n",
      " 9   height                        45513 non-null  float64\n",
      " 10  insta_username                0 non-null      float64\n",
      " 11  interests                     66495 non-null  object \n",
      " 12  is_habit_drink                57014 non-null  object \n",
      " 13  is_habit_smoke                56641 non-null  object \n",
      " 14  is_verified                   66540 non-null  object \n",
      " 15  mobile                        66622 non-null  int64  \n",
      " 16  name                          66622 non-null  object \n",
      " 17  status                        66622 non-null  bool   \n",
      " 18  type                          66622 non-null  object \n",
      " 19  updatedAt                     66622 non-null  object \n",
      " 20  verified_at                   16083 non-null  object \n",
      " 21  what_to_find                  55711 non-null  object \n",
      " 22  who_to_date                   66495 non-null  object \n",
      " 23  is_subscribed                 28161 non-null  object \n",
      " 24  id                            66622 non-null  int64  \n",
      " 25  first_like_unlike_at          66622 non-null  object \n",
      " 26  first_msg                     169 non-null    object \n",
      " 27  first_type                    66622 non-null  object \n",
      " 28  is_unmatch                    66622 non-null  bool   \n",
      " 29  like_count                    66622 non-null  int64  \n",
      " 30  p1_extend_at                  102 non-null    object \n",
      " 31  p2                            66622 non-null  int64  \n",
      " 32  p2_extend_at                  151 non-null    object \n",
      " 33  second_like_unlike_at         4730 non-null   object \n",
      " 34  second_msg                    26 non-null     object \n",
      " 35  second_type                   4730 non-null   object \n",
      " 36  unmatch_on                    147 non-null    object \n",
      "dtypes: bool(2), float64(2), int64(5), object(28)\n",
      "memory usage: 18.4+ MB\n"
     ]
    }
   ],
   "source": [
    "merged_df.info()"
   ]
  },
  {
   "cell_type": "code",
   "execution_count": 39,
   "id": "d99c1b54",
   "metadata": {},
   "outputs": [],
   "source": [
    "mask = merged_df['college'].str.contains('', case=False).fillna(False)\n",
    "merged_df.loc[mask, 'college'] = 'none'"
   ]
  },
  {
   "cell_type": "code",
   "execution_count": 13,
   "id": "be71c7f6",
   "metadata": {},
   "outputs": [],
   "source": [
    "merged_df['college'] = merged_df['college'].str.lower()"
   ]
  },
  {
   "cell_type": "code",
   "execution_count": 23,
   "id": "b47318a9",
   "metadata": {},
   "outputs": [],
   "source": [
    "mask = merged_df['college'].str.contains('nehru', case=False).fillna(False)\n",
    "merged_df.loc[mask, 'college'] = 'jnu'"
   ]
  },
  {
   "cell_type": "code",
   "execution_count": 27,
   "id": "c14e69c3",
   "metadata": {},
   "outputs": [],
   "source": [
    "mask = merged_df['college'].str.contains('jnu', case=False).fillna(False)\n",
    "merged_df.loc[mask, 'college'] = 'jnu'"
   ]
  },
  {
   "cell_type": "code",
   "execution_count": 35,
   "id": "1a5d18a6",
   "metadata": {},
   "outputs": [],
   "source": [
    "mask = merged_df['college'].str.contains('iit', case=False).fillna(False)\n",
    "merged_df.loc[mask, 'college'] = 'iit delhi'"
   ]
  },
  {
   "cell_type": "code",
   "execution_count": 37,
   "id": "eaa48b7d",
   "metadata": {},
   "outputs": [
    {
     "data": {
      "text/plain": [
       "171"
      ]
     },
     "execution_count": 37,
     "metadata": {},
     "output_type": "execute_result"
    }
   ],
   "source": [
    "merged_df['college'].nunique()"
   ]
  },
  {
   "cell_type": "code",
   "execution_count": 46,
   "id": "d208fb11",
   "metadata": {},
   "outputs": [],
   "source": [
    "merged_df['college'] = merged_df['college'].fillna('missing')"
   ]
  },
  {
   "cell_type": "code",
   "execution_count": 47,
   "id": "f327e2fa",
   "metadata": {},
   "outputs": [],
   "source": [
    "merged_df['bio'] = merged_df['bio'].fillna('none')"
   ]
  },
  {
   "cell_type": "code",
   "execution_count": 49,
   "id": "b1935dc4",
   "metadata": {},
   "outputs": [],
   "source": [
    "merged_df['dob'] = merged_df['dob'].fillna('not mentioned')"
   ]
  },
  {
   "cell_type": "code",
   "execution_count": 50,
   "id": "7c41b9bb",
   "metadata": {},
   "outputs": [],
   "source": [
    "merged_df['gender'] = merged_df['gender'].fillna('prefer not to say')"
   ]
  },
  {
   "cell_type": "code",
   "execution_count": 52,
   "id": "8bacca6e",
   "metadata": {},
   "outputs": [],
   "source": [
    "merged_df['height'] = merged_df['height'].fillna('prefer not to say')"
   ]
  },
  {
   "cell_type": "code",
   "execution_count": 53,
   "id": "b787fda4",
   "metadata": {},
   "outputs": [],
   "source": [
    "merged_df['interests'] = merged_df['interests'].fillna('not mentioned')"
   ]
  },
  {
   "cell_type": "code",
   "execution_count": 54,
   "id": "ff9f06e1",
   "metadata": {},
   "outputs": [],
   "source": [
    "merged_df['is_habit_drink'] = merged_df['is_habit_drink'].fillna('prefer not to say')\n",
    "merged_df['is_habit_smoke'] = merged_df['is_habit_smoke'].fillna('prefer not to say')"
   ]
  },
  {
   "cell_type": "code",
   "execution_count": 63,
   "id": "eee434f7",
   "metadata": {},
   "outputs": [
    {
     "data": {
      "text/plain": [
       "Index(['_id', 'bio', 'college', 'country', 'createdAt', 'dob', 'email',\n",
       "       'gender', 'height', 'interests', 'is_habit_drink', 'is_habit_smoke',\n",
       "       'is_verified', 'mobile', 'name', 'status', 'type', 'updatedAt',\n",
       "       'verified_at', 'what_to_find', 'who_to_date', 'is_subscribed', 'id',\n",
       "       'first_like_unlike_at', 'first_msg', 'first_type', 'is_unmatch',\n",
       "       'like_count', 'p1_extend_at', 'p2', 'p2_extend_at',\n",
       "       'second_like_unlike_at', 'second_msg', 'second_type', 'unmatch_on'],\n",
       "      dtype='object')"
      ]
     },
     "execution_count": 63,
     "metadata": {},
     "output_type": "execute_result"
    }
   ],
   "source": [
    "\n",
    "merged_df = merged_df.drop(['face_detection_probabilities'], axis = 1)\n",
    "merged_df.columns"
   ]
  },
  {
   "cell_type": "code",
   "execution_count": 65,
   "id": "08159072",
   "metadata": {},
   "outputs": [],
   "source": [
    "merged_df['is_verified'] = merged_df['is_verified'].fillna('in process')"
   ]
  },
  {
   "cell_type": "code",
   "execution_count": 66,
   "id": "287e0cbf",
   "metadata": {},
   "outputs": [],
   "source": [
    "merged_df['verified_at'] = merged_df['verified_at'].fillna('not yet verified')"
   ]
  },
  {
   "cell_type": "code",
   "execution_count": 71,
   "id": "64391bd5",
   "metadata": {},
   "outputs": [],
   "source": [
    "merged_df['what_to_find'] = merged_df['what_to_find'].fillna('not mentioned')"
   ]
  },
  {
   "cell_type": "code",
   "execution_count": 73,
   "id": "3c4c1b42",
   "metadata": {},
   "outputs": [],
   "source": [
    "merged_df['who_to_date'] = merged_df['who_to_date'].fillna('prefer not to say')"
   ]
  },
  {
   "cell_type": "code",
   "execution_count": 77,
   "id": "71555694",
   "metadata": {},
   "outputs": [],
   "source": [
    "merged_df['is_subscribed'] = merged_df['is_subscribed'].fillna('missing')\n",
    "merged_df['first_msg'] = merged_df['first_msg'].fillna('none')"
   ]
  },
  {
   "cell_type": "code",
   "execution_count": 78,
   "id": "f4ea51e9",
   "metadata": {},
   "outputs": [
    {
     "name": "stdout",
     "output_type": "stream",
     "text": [
      "<class 'pandas.core.frame.DataFrame'>\n",
      "Int64Index: 66622 entries, 0 to 66621\n",
      "Data columns (total 35 columns):\n",
      " #   Column                 Non-Null Count  Dtype \n",
      "---  ------                 --------------  ----- \n",
      " 0   _id                    66622 non-null  int64 \n",
      " 1   bio                    66622 non-null  object\n",
      " 2   college                66622 non-null  object\n",
      " 3   country                66622 non-null  object\n",
      " 4   createdAt              66622 non-null  object\n",
      " 5   dob                    66622 non-null  object\n",
      " 6   email                  66622 non-null  object\n",
      " 7   gender                 66622 non-null  object\n",
      " 8   height                 66622 non-null  object\n",
      " 9   interests              66622 non-null  object\n",
      " 10  is_habit_drink         66622 non-null  object\n",
      " 11  is_habit_smoke         66622 non-null  object\n",
      " 12  is_verified            66622 non-null  object\n",
      " 13  mobile                 66622 non-null  int64 \n",
      " 14  name                   66622 non-null  object\n",
      " 15  status                 66622 non-null  bool  \n",
      " 16  type                   66622 non-null  object\n",
      " 17  updatedAt              66622 non-null  object\n",
      " 18  verified_at            66622 non-null  object\n",
      " 19  what_to_find           66622 non-null  object\n",
      " 20  who_to_date            66622 non-null  object\n",
      " 21  is_subscribed          66622 non-null  object\n",
      " 22  id                     66622 non-null  int64 \n",
      " 23  first_like_unlike_at   66622 non-null  object\n",
      " 24  first_msg              66622 non-null  object\n",
      " 25  first_type             66622 non-null  object\n",
      " 26  is_unmatch             66622 non-null  bool  \n",
      " 27  like_count             66622 non-null  int64 \n",
      " 28  p1_extend_at           102 non-null    object\n",
      " 29  p2                     66622 non-null  int64 \n",
      " 30  p2_extend_at           151 non-null    object\n",
      " 31  second_like_unlike_at  4730 non-null   object\n",
      " 32  second_msg             26 non-null     object\n",
      " 33  second_type            4730 non-null   object\n",
      " 34  unmatch_on             147 non-null    object\n",
      "dtypes: bool(2), int64(5), object(28)\n",
      "memory usage: 17.4+ MB\n"
     ]
    }
   ],
   "source": [
    "merged_df.info()"
   ]
  },
  {
   "cell_type": "code",
   "execution_count": 80,
   "id": "beae6cf2",
   "metadata": {},
   "outputs": [],
   "source": [
    "merged_df = merged_df.drop(['p1_extend_at','p2_extend_at','second_like_unlike_at','second_msg','second_type','unmatch_on'], axis = 1)"
   ]
  },
  {
   "cell_type": "code",
   "execution_count": 82,
   "id": "1b7060be",
   "metadata": {},
   "outputs": [
    {
     "data": {
      "text/plain": [
       "Index(['_id', 'bio', 'college', 'country', 'createdAt', 'dob', 'email',\n",
       "       'gender', 'height', 'interests', 'is_habit_drink', 'is_habit_smoke',\n",
       "       'is_verified', 'mobile', 'name', 'status', 'type', 'updatedAt',\n",
       "       'verified_at', 'what_to_find', 'who_to_date', 'is_subscribed', 'id',\n",
       "       'first_like_unlike_at', 'first_msg', 'first_type', 'is_unmatch',\n",
       "       'like_count', 'p2'],\n",
       "      dtype='object')"
      ]
     },
     "execution_count": 82,
     "metadata": {},
     "output_type": "execute_result"
    }
   ],
   "source": [
    "merged_df.columns"
   ]
  },
  {
   "cell_type": "code",
   "execution_count": null,
   "id": "728e423c",
   "metadata": {},
   "outputs": [],
   "source": []
  }
 ],
 "metadata": {
  "kernelspec": {
   "display_name": "Python 3 (ipykernel)",
   "language": "python",
   "name": "python3"
  },
  "language_info": {
   "codemirror_mode": {
    "name": "ipython",
    "version": 3
   },
   "file_extension": ".py",
   "mimetype": "text/x-python",
   "name": "python",
   "nbconvert_exporter": "python",
   "pygments_lexer": "ipython3",
   "version": "3.9.12"
  }
 },
 "nbformat": 4,
 "nbformat_minor": 5
}
